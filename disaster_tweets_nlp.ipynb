{
 "cells": [
  {
   "cell_type": "markdown",
   "id": "2ccbcf6e",
   "metadata": {},
   "source": [
    "## 1. Introduction\n",
    "\n",
    "In this project, we work on the Kaggle competition [Natural Language Processing with Disaster Tweets](https://www.kaggle.com/competitions/nlp-getting-started). The goal is to build a machine learning model that can determine whether a tweet is about a real disaster (label `1`) or not (label `0`).\n",
    "\n",
    "This is a **Natural Language Processing (NLP)** task, where we analyze and classify short pieces of human language (tweets) using machine learning. NLP is a field of Artificial Intelligence that helps computers understand, interpret, and generate human language.\n",
    "\n",
    "We begin by exploring the data, inspecting its structure, and planning a strategy to clean and model it.\n"
   ]
  },
  {
   "cell_type": "code",
   "execution_count": 2,
   "id": "134fe3fa",
   "metadata": {},
   "outputs": [
    {
     "name": "stdout",
     "output_type": "stream",
     "text": [
      "Training set shape: (7613, 5)\n",
      "Test set shape: (3263, 4)\n"
     ]
    },
    {
     "data": {
      "text/html": [
       "<div>\n",
       "<style scoped>\n",
       "    .dataframe tbody tr th:only-of-type {\n",
       "        vertical-align: middle;\n",
       "    }\n",
       "\n",
       "    .dataframe tbody tr th {\n",
       "        vertical-align: top;\n",
       "    }\n",
       "\n",
       "    .dataframe thead th {\n",
       "        text-align: right;\n",
       "    }\n",
       "</style>\n",
       "<table border=\"1\" class=\"dataframe\">\n",
       "  <thead>\n",
       "    <tr style=\"text-align: right;\">\n",
       "      <th></th>\n",
       "      <th>id</th>\n",
       "      <th>keyword</th>\n",
       "      <th>location</th>\n",
       "      <th>text</th>\n",
       "      <th>target</th>\n",
       "    </tr>\n",
       "  </thead>\n",
       "  <tbody>\n",
       "    <tr>\n",
       "      <th>0</th>\n",
       "      <td>1</td>\n",
       "      <td>NaN</td>\n",
       "      <td>NaN</td>\n",
       "      <td>Our Deeds are the Reason of this #earthquake M...</td>\n",
       "      <td>1</td>\n",
       "    </tr>\n",
       "    <tr>\n",
       "      <th>1</th>\n",
       "      <td>4</td>\n",
       "      <td>NaN</td>\n",
       "      <td>NaN</td>\n",
       "      <td>Forest fire near La Ronge Sask. Canada</td>\n",
       "      <td>1</td>\n",
       "    </tr>\n",
       "    <tr>\n",
       "      <th>2</th>\n",
       "      <td>5</td>\n",
       "      <td>NaN</td>\n",
       "      <td>NaN</td>\n",
       "      <td>All residents asked to 'shelter in place' are ...</td>\n",
       "      <td>1</td>\n",
       "    </tr>\n",
       "    <tr>\n",
       "      <th>3</th>\n",
       "      <td>6</td>\n",
       "      <td>NaN</td>\n",
       "      <td>NaN</td>\n",
       "      <td>13,000 people receive #wildfires evacuation or...</td>\n",
       "      <td>1</td>\n",
       "    </tr>\n",
       "    <tr>\n",
       "      <th>4</th>\n",
       "      <td>7</td>\n",
       "      <td>NaN</td>\n",
       "      <td>NaN</td>\n",
       "      <td>Just got sent this photo from Ruby #Alaska as ...</td>\n",
       "      <td>1</td>\n",
       "    </tr>\n",
       "  </tbody>\n",
       "</table>\n",
       "</div>"
      ],
      "text/plain": [
       "   id keyword location                                               text  \\\n",
       "0   1     NaN      NaN  Our Deeds are the Reason of this #earthquake M...   \n",
       "1   4     NaN      NaN             Forest fire near La Ronge Sask. Canada   \n",
       "2   5     NaN      NaN  All residents asked to 'shelter in place' are ...   \n",
       "3   6     NaN      NaN  13,000 people receive #wildfires evacuation or...   \n",
       "4   7     NaN      NaN  Just got sent this photo from Ruby #Alaska as ...   \n",
       "\n",
       "   target  \n",
       "0       1  \n",
       "1       1  \n",
       "2       1  \n",
       "3       1  \n",
       "4       1  "
      ]
     },
     "execution_count": 2,
     "metadata": {},
     "output_type": "execute_result"
    }
   ],
   "source": [
    "import pandas as pd\n",
    "\n",
    "train_df = pd.read_csv(\"data/train.csv\")\n",
    "test_df = pd.read_csv(\"data/test.csv\")\n",
    "submission_df = pd.read_csv(\"data/sample_submission.csv\")\n",
    "\n",
    "# Print basic info\n",
    "print(\"Training set shape:\", train_df.shape)\n",
    "print(\"Test set shape:\", test_df.shape)\n",
    "\n",
    "# Preview the training data\n",
    "train_df.head()\n"
   ]
  },
  {
   "cell_type": "markdown",
   "id": "0af0abb3",
   "metadata": {},
   "source": [
    "### Data description\n",
    "The training set contains five columns:\n",
    "\n",
    "- `id`: A unique identifier for each tweet\n",
    "- `keyword`: A disaster-related keyword (optional, contains missing values)\n",
    "- `location`: The location where the tweet was posted (optional, many missing)\n",
    "- `text`: The tweet content (what we will analyze and classify)\n",
    "- `target`: The label — `1` for tweets about a **real disaster**, `0` for **non-disaster**\n",
    "\n",
    "As shown above, the first few rows include short texts related to earthquakes, wildfires, and evacuation. We also observe that both `keyword` and `location` contain many missing values (NaNs), which we’ll address during the EDA and preprocessing steps.\n",
    "\n",
    "### Dataset Dimensions\n",
    "\n",
    "- The training set has **7,613 rows** and **5 columns**\n",
    "- The test set has **3,263 rows** and **4 columns**\n",
    "\n",
    "Only the training set includes the `target` column, which indicates whether a tweet is about a disaster (`1`) or not (`0`). The test set is used to make predictions for submission to the Kaggle leaderboard.\n",
    "\n",
    "We will now perform Exploratory Data Analysis (EDA) to better understand the structure and distribution of the dataset.\n",
    "\n"
   ]
  },
  {
   "cell_type": "code",
   "execution_count": 3,
   "id": "2374e594",
   "metadata": {},
   "outputs": [
    {
     "data": {
      "text/plain": [
       "id             0\n",
       "keyword       61\n",
       "location    2533\n",
       "text           0\n",
       "target         0\n",
       "dtype: int64"
      ]
     },
     "execution_count": 3,
     "metadata": {},
     "output_type": "execute_result"
    }
   ],
   "source": [
    "# Check for missing values\n",
    "train_df.isnull().sum()"
   ]
  },
  {
   "cell_type": "markdown",
   "id": "34c23bae",
   "metadata": {},
   "source": [
    "### Missing Data Overview\n",
    "\n",
    "The dataset contains missing values in two columns:\n",
    "\n",
    "- **`keyword`**: 61 missing entries (less than 1% of the dataset)\n",
    "- **`location`**: 2,533 missing entries (approximately 33% of the dataset)\n",
    "\n",
    "Both the `text` and `target` columns are fully complete, which is ideal since they are central to our classification task.\n",
    "\n",
    "- We may consider filling missing `keyword` entries with a placeholder like `\"none\"` or treat them as missing altogether.\n",
    "- The `location` column is free-form and noisy, and given the high percentage of missing values, it may not be very useful without heavy cleaning. We might drop it from the analysis or explore it separately if time allows.\n"
   ]
  },
  {
   "cell_type": "code",
   "execution_count": 5,
   "id": "fe6fa4dd",
   "metadata": {},
   "outputs": [
    {
     "data": {
      "image/png": "[encoded data removed]",
      "text/plain": [
       "<Figure size 600x400 with 1 Axes>"
      ]
     },
     "metadata": {},
     "output_type": "display_data"
    }
   ],
   "source": [
    "import matplotlib.pyplot as plt\n",
    "import seaborn as sns\n",
    "\n",
    "# Set plot style\n",
    "sns.set(style=\"whitegrid\")\n",
    "\n",
    "# Plot class distribution\n",
    "plt.figure(figsize=(6,4))\n",
    "sns.countplot(x='target', data=train_df, palette='Set2', hue='target')\n",
    "plt.title('Distribution of Disaster (1) vs Non-Disaster (0) Tweets')\n",
    "plt.xlabel('Target')\n",
    "plt.ylabel('Count')\n",
    "plt.xticks([0, 1], ['Not Disaster', 'Disaster'])\n",
    "plt.show()"
   ]
  },
  {
   "cell_type": "markdown",
   "id": "901622da",
   "metadata": {},
   "source": [
    "### Class Distribution\n",
    "\n",
    "The dataset contains binary labels in the `target` column:\n",
    "- `0`: Tweet is **not** about a real disaster\n",
    "- `1`: Tweet **is** about a real disaster\n",
    "\n",
    "From the plot above, we see that the classes are **somewhat imbalanced** — there are slightly more non-disaster tweets than disaster-related ones. This imbalance will be important to consider during model training, especially when evaluating performance.\n"
   ]
  },
  {
   "cell_type": "code",
   "execution_count": 6,
   "id": "2f03bacb",
   "metadata": {},
   "outputs": [
    {
     "data": {
      "image/png": "[encoded data removed]",
      "text/plain": [
       "<Figure size 800x400 with 1 Axes>"
      ]
     },
     "metadata": {},
     "output_type": "display_data"
    }
   ],
   "source": [
    "# Add a new column with tweet lengths\n",
    "train_df['text_len'] = train_df['text'].apply(len)\n",
    "\n",
    "# Plot histogram of tweet lengths\n",
    "plt.figure(figsize=(8,4))\n",
    "sns.histplot(train_df['text_len'], bins=30, kde=False, color='royalblue')\n",
    "plt.title('Distribution of Tweet Lengths')\n",
    "plt.xlabel('Number of Characters')\n",
    "plt.ylabel('Frequency')\n",
    "plt.show()\n"
   ]
  },
  {
   "cell_type": "markdown",
   "id": "60e5e584",
   "metadata": {},
   "source": [
    "### Tweet Length Distribution\n",
    "\n",
    "Most tweets are under 150 characters long, which makes sense due to Twitter’s character limits. However, there is some variation.\n",
    "\n",
    "This information helps guide preprocessing and model design — for example, we may decide to truncate or pad sequences to a fixed length such as 100 or 120 tokens.\n"
   ]
  },
  {
   "cell_type": "code",
   "execution_count": 11,
   "id": "814df277",
   "metadata": {},
   "outputs": [
    {
     "data": {
      "text/html": [
       "<div>\n",
       "<style scoped>\n",
       "    .dataframe tbody tr th:only-of-type {\n",
       "        vertical-align: middle;\n",
       "    }\n",
       "\n",
       "    .dataframe tbody tr th {\n",
       "        vertical-align: top;\n",
       "    }\n",
       "\n",
       "    .dataframe thead th {\n",
       "        text-align: right;\n",
       "    }\n",
       "</style>\n",
       "<table border=\"1\" class=\"dataframe\">\n",
       "  <thead>\n",
       "    <tr style=\"text-align: right;\">\n",
       "      <th></th>\n",
       "      <th>keyword</th>\n",
       "      <th>frequency</th>\n",
       "    </tr>\n",
       "  </thead>\n",
       "  <tbody>\n",
       "    <tr>\n",
       "      <th>0</th>\n",
       "      <td>fatalities</td>\n",
       "      <td>45</td>\n",
       "    </tr>\n",
       "    <tr>\n",
       "      <th>1</th>\n",
       "      <td>deluge</td>\n",
       "      <td>42</td>\n",
       "    </tr>\n",
       "    <tr>\n",
       "      <th>2</th>\n",
       "      <td>armageddon</td>\n",
       "      <td>42</td>\n",
       "    </tr>\n",
       "    <tr>\n",
       "      <th>3</th>\n",
       "      <td>sinking</td>\n",
       "      <td>41</td>\n",
       "    </tr>\n",
       "    <tr>\n",
       "      <th>4</th>\n",
       "      <td>damage</td>\n",
       "      <td>41</td>\n",
       "    </tr>\n",
       "    <tr>\n",
       "      <th>...</th>\n",
       "      <td>...</td>\n",
       "      <td>...</td>\n",
       "    </tr>\n",
       "    <tr>\n",
       "      <th>216</th>\n",
       "      <td>forest%20fire</td>\n",
       "      <td>19</td>\n",
       "    </tr>\n",
       "    <tr>\n",
       "      <th>217</th>\n",
       "      <td>epicentre</td>\n",
       "      <td>12</td>\n",
       "    </tr>\n",
       "    <tr>\n",
       "      <th>218</th>\n",
       "      <td>threat</td>\n",
       "      <td>11</td>\n",
       "    </tr>\n",
       "    <tr>\n",
       "      <th>219</th>\n",
       "      <td>inundation</td>\n",
       "      <td>10</td>\n",
       "    </tr>\n",
       "    <tr>\n",
       "      <th>220</th>\n",
       "      <td>radiation%20emergency</td>\n",
       "      <td>9</td>\n",
       "    </tr>\n",
       "  </tbody>\n",
       "</table>\n",
       "<p>221 rows × 2 columns</p>\n",
       "</div>"
      ],
      "text/plain": [
       "                   keyword  frequency\n",
       "0               fatalities         45\n",
       "1                   deluge         42\n",
       "2               armageddon         42\n",
       "3                  sinking         41\n",
       "4                   damage         41\n",
       "..                     ...        ...\n",
       "216          forest%20fire         19\n",
       "217              epicentre         12\n",
       "218                 threat         11\n",
       "219             inundation         10\n",
       "220  radiation%20emergency          9\n",
       "\n",
       "[221 rows x 2 columns]"
      ]
     },
     "metadata": {},
     "output_type": "display_data"
    },
    {
     "data": {
      "image/png": "[encoded data removed]",
      "text/plain": [
       "<Figure size 1000x500 with 1 Axes>"
      ]
     },
     "metadata": {},
     "output_type": "display_data"
    }
   ],
   "source": [
    "# Most frequent keywords (excluding NaN)\n",
    "# View full frequency table\n",
    "keyword_counts = train_df['keyword'].dropna().value_counts().reset_index()\n",
    "keyword_counts.columns = ['keyword', 'frequency']\n",
    "display(keyword_counts)\n",
    "\n",
    "# Plot top 20\n",
    "top_keywords = keyword_counts.head(20)\n",
    "\n",
    "plt.figure(figsize=(10,5))\n",
    "sns.barplot(data=top_keywords, y='keyword', x='frequency', palette=\"viridis\", hue='keyword')\n",
    "plt.title('Top 20 Most Frequent Keywords')\n",
    "plt.xlabel('Frequency')\n",
    "plt.ylabel('Keyword')\n",
    "plt.show()"
   ]
  },
  {
   "cell_type": "markdown",
   "id": "56c3ba77",
   "metadata": {},
   "source": [
    "### Top 20 Most Frequent Keywords\n",
    "\n",
    "There are over 200 unique keywords in the dataset. For visualization purposes, we show only the top 20 most frequent keywords below. This helps us focus on the most common disaster-related terms while keeping the chart readable. \n",
    "\n",
    "We retain the full list of keywords in memory for later use if we decide to use them as input features or explore their impact on classification.\n",
    "\n"
   ]
  },
  {
   "cell_type": "code",
   "execution_count": 12,
   "id": "5148814e",
   "metadata": {},
   "outputs": [
    {
     "data": {
      "text/html": [
       "<div>\n",
       "<style scoped>\n",
       "    .dataframe tbody tr th:only-of-type {\n",
       "        vertical-align: middle;\n",
       "    }\n",
       "\n",
       "    .dataframe tbody tr th {\n",
       "        vertical-align: top;\n",
       "    }\n",
       "\n",
       "    .dataframe thead th {\n",
       "        text-align: right;\n",
       "    }\n",
       "</style>\n",
       "<table border=\"1\" class=\"dataframe\">\n",
       "  <thead>\n",
       "    <tr style=\"text-align: right;\">\n",
       "      <th></th>\n",
       "      <th>text</th>\n",
       "      <th>clean_text</th>\n",
       "    </tr>\n",
       "  </thead>\n",
       "  <tbody>\n",
       "    <tr>\n",
       "      <th>0</th>\n",
       "      <td>Our Deeds are the Reason of this #earthquake M...</td>\n",
       "      <td>our deeds are the reason of this earthquake ma...</td>\n",
       "    </tr>\n",
       "    <tr>\n",
       "      <th>1</th>\n",
       "      <td>Forest fire near La Ronge Sask. Canada</td>\n",
       "      <td>forest fire near la ronge sask canada</td>\n",
       "    </tr>\n",
       "    <tr>\n",
       "      <th>2</th>\n",
       "      <td>All residents asked to 'shelter in place' are ...</td>\n",
       "      <td>all residents asked to shelter in place are be...</td>\n",
       "    </tr>\n",
       "    <tr>\n",
       "      <th>3</th>\n",
       "      <td>13,000 people receive #wildfires evacuation or...</td>\n",
       "      <td>people receive wildfires evacuation orders in ...</td>\n",
       "    </tr>\n",
       "    <tr>\n",
       "      <th>4</th>\n",
       "      <td>Just got sent this photo from Ruby #Alaska as ...</td>\n",
       "      <td>just got sent this photo from ruby alaska as s...</td>\n",
       "    </tr>\n",
       "  </tbody>\n",
       "</table>\n",
       "</div>"
      ],
      "text/plain": [
       "                                                text  \\\n",
       "0  Our Deeds are the Reason of this #earthquake M...   \n",
       "1             Forest fire near La Ronge Sask. Canada   \n",
       "2  All residents asked to 'shelter in place' are ...   \n",
       "3  13,000 people receive #wildfires evacuation or...   \n",
       "4  Just got sent this photo from Ruby #Alaska as ...   \n",
       "\n",
       "                                          clean_text  \n",
       "0  our deeds are the reason of this earthquake ma...  \n",
       "1              forest fire near la ronge sask canada  \n",
       "2  all residents asked to shelter in place are be...  \n",
       "3  people receive wildfires evacuation orders in ...  \n",
       "4  just got sent this photo from ruby alaska as s...  "
      ]
     },
     "execution_count": 12,
     "metadata": {},
     "output_type": "execute_result"
    }
   ],
   "source": [
    "import re\n",
    "import string\n",
    "\n",
    "def clean_text(text):\n",
    "    # Lowercase\n",
    "    text = text.lower()\n",
    "    \n",
    "    # Remove URLs\n",
    "    text = re.sub(r\"http\\S+|www\\S+|https\\S+\", \"\", text)\n",
    "    \n",
    "    # Remove punctuation\n",
    "    text = text.translate(str.maketrans(\"\", \"\", string.punctuation))\n",
    "    \n",
    "    # Remove digits\n",
    "    text = re.sub(r\"\\d+\", \"\", text)\n",
    "    \n",
    "    # Remove extra whitespace\n",
    "    text = re.sub(r\"\\s+\", \" \", text).strip()\n",
    "    \n",
    "    return text\n",
    "\n",
    "# Apply to training and test sets\n",
    "train_df[\"clean_text\"] = train_df[\"text\"].apply(clean_text)\n",
    "test_df[\"clean_text\"] = test_df[\"text\"].apply(clean_text)\n",
    "\n",
    "# Preview result\n",
    "train_df[[\"text\", \"clean_text\"]].head()"
   ]
  },
  {
   "cell_type": "markdown",
   "id": "42ae0a2b",
   "metadata": {},
   "source": [
    "### Preprocessing\n",
    "\n",
    "We apply basic text cleaning steps:\n",
    "- Lowercasing\n",
    "- Removing URLs, punctuation, numbers\n",
    "- Removing extra whitespace\n",
    "\n",
    "This ensures the model focuses on meaningful words rather than formatting or noise. We do **not** remove stopwords or perform stemming/lemmatization here, as even small words (like \"not\") can carry importance in short texts like tweets.\n",
    "\n",
    "---\n",
    "\n",
    "### Vectorization: TF-IDF\n",
    "\n",
    "To convert text into numerical format, we use **TF-IDF** (Term Frequency–Inverse Document Frequency).\n",
    "\n",
    "- **Term Frequency (TF):** How often a word appears in a document\n",
    "- **Inverse Document Frequency (IDF):** How rare the word is across all documents\n",
    "\n",
    "TF-IDF gives higher weight to **informative words** that are common in one tweet but rare across the whole dataset. This is useful for sparse text like tweets."
   ]
  },
  {
   "cell_type": "code",
   "execution_count": 13,
   "id": "b43a4503",
   "metadata": {},
   "outputs": [],
   "source": [
    "from sklearn.feature_extraction.text import TfidfVectorizer\n",
    "\n",
    "# Initialize TF-IDF Vectorizer\n",
    "tfidf = TfidfVectorizer(max_features=5000, ngram_range=(1,2))  # unigrams + bigrams\n",
    "\n",
    "# Fit on train, transform both train and test\n",
    "X_train_tfidf = tfidf.fit_transform(train_df[\"clean_text\"])\n",
    "X_test_tfidf = tfidf.transform(test_df[\"clean_text\"])\n",
    "\n",
    "# Target variable\n",
    "y_train = train_df[\"target\"]"
   ]
  },
  {
   "cell_type": "code",
   "execution_count": 14,
   "id": "b41a19fc",
   "metadata": {},
   "outputs": [
    {
     "name": "stdout",
     "output_type": "stream",
     "text": [
      "Validation Accuracy: 0.8063033486539725\n",
      "\n",
      "Classification Report:\n",
      "               precision    recall  f1-score   support\n",
      "\n",
      "           0       0.79      0.89      0.84       874\n",
      "           1       0.83      0.69      0.75       649\n",
      "\n",
      "    accuracy                           0.81      1523\n",
      "   macro avg       0.81      0.79      0.80      1523\n",
      "weighted avg       0.81      0.81      0.80      1523\n",
      "\n"
     ]
    }
   ],
   "source": [
    "from sklearn.linear_model import LogisticRegression\n",
    "from sklearn.model_selection import train_test_split\n",
    "from sklearn.metrics import classification_report, confusion_matrix, accuracy_score\n",
    "\n",
    "# Split into training and validation sets\n",
    "X_train_split, X_val_split, y_train_split, y_val_split = train_test_split(\n",
    "    X_train_tfidf, y_train, test_size=0.2, random_state=42\n",
    ")\n",
    "\n",
    "# Initialize and train Logistic Regression model\n",
    "lr_model = LogisticRegression(max_iter=1000)\n",
    "lr_model.fit(X_train_split, y_train_split)\n",
    "\n",
    "# Predict on validation set\n",
    "y_pred_val = lr_model.predict(X_val_split)\n",
    "\n",
    "# Evaluate\n",
    "print(\"Validation Accuracy:\", accuracy_score(y_val_split, y_pred_val))\n",
    "print(\"\\nClassification Report:\\n\", classification_report(y_val_split, y_pred_val))\n"
   ]
  },
  {
   "cell_type": "markdown",
   "id": "68d415e0",
   "metadata": {},
   "source": [
    "### 4. Model Architecture\n",
    "\n",
    "As a baseline, we use a **Logistic Regression** model, which is a simple and effective linear classifier. It works well with TF-IDF vectorized data, especially for binary classification problems like this one (disaster vs non-disaster tweets).\n",
    "\n",
    "Logistic Regression takes the TF-IDF features as input and learns weights that predict the probability of each class (0 or 1). It is fast to train, interpretable, and serves as a solid starting point before moving to more complex neural networks.\n",
    "\n",
    "To train and evaluate the model:\n",
    "- We split the training data into a training set (80%) and a validation set (20%)\n",
    "- We train the Logistic Regression model using scikit-learn\n",
    "- We evaluate using accuracy and a classification report that includes precision, recall, and F1-score\n",
    "\n",
    "This model gives us a performance benchmark to compare against future architectures like LSTM or GRU.\n",
    "\n",
    "### Evaluation Results – Logistic Regression Baseline\n",
    "\n",
    "The Logistic Regression model achieved a **validation accuracy of 80.6%**, which is a strong starting point considering the simplicity of the approach.\n",
    "\n",
    "#### Key Metrics:\n",
    "- **Precision (Class 1 - Disaster):** 0.83 → When the model predicts a disaster, it's correct 83% of the time\n",
    "- **Recall (Class 1 - Disaster):** 0.69 → It catches about 69% of actual disasters\n",
    "- **F1-Score (Class 1):** 0.75 → Balanced average of precision and recall for disaster detection\n",
    "\n",
    "#### Observations:\n",
    "- The model performs slightly better at predicting **non-disaster tweets (Class 0)**, with higher recall.\n",
    "- Disaster tweets (Class 1) are harder to catch — a common challenge due to class imbalance and subtler language patterns.\n",
    "- The **F1-score of 0.75** for disaster tweets shows a decent balance, but there is room for improvement.\n",
    "\n",
    "#### What Could Improve This Model?\n",
    "- Using more advanced NLP methods (like word embeddings or neural networks)\n",
    "- Balancing the classes with techniques like oversampling or class weights\n",
    "- Adding keyword/location features (if cleaned)\n",
    "- Trying RNNs like **LSTM** or **GRU** to capture word order and context\n",
    "\n"
   ]
  },
  {
   "cell_type": "code",
   "execution_count": 15,
   "id": "c0513535",
   "metadata": {},
   "outputs": [
    {
     "data": {
      "image/png": "[encoded data removed]",
      "text/plain": [
       "<Figure size 500x400 with 2 Axes>"
      ]
     },
     "metadata": {},
     "output_type": "display_data"
    },
    {
     "name": "stdout",
     "output_type": "stream",
     "text": [
      "Validation Accuracy: 0.8063033486539725\n",
      "\n",
      "Classification Report:\n",
      "               precision    recall  f1-score   support\n",
      "\n",
      "Not Disaster       0.79      0.89      0.84       874\n",
      "    Disaster       0.83      0.69      0.75       649\n",
      "\n",
      "    accuracy                           0.81      1523\n",
      "   macro avg       0.81      0.79      0.80      1523\n",
      "weighted avg       0.81      0.81      0.80      1523\n",
      "\n"
     ]
    }
   ],
   "source": [
    "import seaborn as sns\n",
    "import matplotlib.pyplot as plt\n",
    "from sklearn.metrics import confusion_matrix, classification_report, accuracy_score\n",
    "\n",
    "# Confusion matrix\n",
    "conf_mat = confusion_matrix(y_val_split, y_pred_val)\n",
    "\n",
    "plt.figure(figsize=(5,4))\n",
    "sns.heatmap(conf_mat, annot=True, fmt='d', cmap='Blues', xticklabels=[\"Not Disaster\", \"Disaster\"], yticklabels=[\"Not Disaster\", \"Disaster\"])\n",
    "plt.xlabel(\"Predicted\")\n",
    "plt.ylabel(\"Actual\")\n",
    "plt.title(\"Confusion Matrix - Logistic Regression\")\n",
    "plt.show()\n",
    "\n",
    "# Classification report\n",
    "print(\"Validation Accuracy:\", accuracy_score(y_val_split, y_pred_val))\n",
    "print(\"\\nClassification Report:\\n\", classification_report(y_val_split, y_pred_val, target_names=[\"Not Disaster\", \"Disaster\"]))\n"
   ]
  },
  {
   "cell_type": "markdown",
   "id": "790d29ee",
   "metadata": {},
   "source": [
    "### Confusion Matrix – Logistic Regression\n",
    "\n",
    "The confusion matrix below summarizes the Logistic Regression model's performance on the validation set:\n",
    "\n",
    "|                        | **Predicted: Not Disaster** | **Predicted: Disaster** |\n",
    "|------------------------|-----------------------------|--------------------------|\n",
    "| **Actual: Not Disaster** | 782 (True Negatives)         | 92 (False Positives)      |\n",
    "| **Actual: Disaster**     | 203 (False Negatives)        | 446 (True Positives)      |\n",
    "\n",
    "#### Interpretation:\n",
    "\n",
    "- ✅ **True Negatives (782):** Non-disaster tweets correctly predicted as non-disasters\n",
    "- ✅ **True Positives (446):** Disaster tweets correctly predicted as disasters\n",
    "- ❌ **False Positives (92):** Non-disaster tweets incorrectly classified as disasters\n",
    "- ❌ **False Negatives (203):** Disaster tweets missed by the model (predicted as non-disasters)\n",
    "\n",
    "#### Key Insight:\n",
    "- The model is **better at identifying non-disaster tweets**, with fewer false positives.\n",
    "- However, it **misses 203 actual disasters**, which could be critical in real-world applications like emergency response.\n",
    "- This suggests the model has room for improvement in **recall** for the disaster class — which we can aim to address with more advanced models like LSTM or GRU.\n"
   ]
  },
  {
   "cell_type": "code",
   "execution_count": 25,
   "id": "c200866c",
   "metadata": {},
   "outputs": [],
   "source": [
    "from tensorflow.keras.preprocessing.text import Tokenizer\n",
    "from tensorflow.keras.preprocessing.sequence import pad_sequences\n",
    "\n",
    "# Parameters\n",
    "MAX_NUM_WORDS = 10000  # Use top 10K words in the vocabulary\n",
    "MAX_SEQ_LEN = 32      # Max number of tokens per tweet\n",
    "\n",
    "# Tokenizer\n",
    "tokenizer = Tokenizer(num_words=MAX_NUM_WORDS, oov_token=\"<OOV>\")\n",
    "tokenizer.fit_on_texts(train_df[\"clean_text\"])\n",
    "\n",
    "# Convert text to sequences\n",
    "X_train_seq = tokenizer.texts_to_sequences(train_df[\"clean_text\"])\n",
    "X_test_seq = tokenizer.texts_to_sequences(test_df[\"clean_text\"])\n",
    "\n",
    "# Pad sequences to ensure consistent input size\n",
    "X_train_pad = pad_sequences(X_train_seq, maxlen=MAX_SEQ_LEN, padding='post')\n",
    "X_test_pad = pad_sequences(X_test_seq, maxlen=MAX_SEQ_LEN, padding='post')\n",
    "\n",
    "# Target labels\n",
    "y_train_array = train_df[\"target\"].values\n"
   ]
  },
  {
   "cell_type": "code",
   "execution_count": 33,
   "id": "3c6b6353",
   "metadata": {},
   "outputs": [
    {
     "name": "stdout",
     "output_type": "stream",
     "text": [
      "Validation Accuracy: 0.8063033486539725\n",
      "\n",
      "Classification Report:\n",
      "               precision    recall  f1-score   support\n",
      "\n",
      "Not Disaster       0.79      0.89      0.84       874\n",
      "    Disaster       0.83      0.69      0.75       649\n",
      "\n",
      "    accuracy                           0.81      1523\n",
      "   macro avg       0.81      0.79      0.80      1523\n",
      "weighted avg       0.81      0.81      0.80      1523\n",
      "\n"
     ]
    }
   ],
   "source": [
    "from sklearn.linear_model import LogisticRegression\n",
    "from sklearn.model_selection import train_test_split\n",
    "\n",
    "# For Logistic Regression (TF-IDF)\n",
    "X_train_split, X_val_split, y_train_split, y_val_split = train_test_split(\n",
    "    X_train_tfidf, y_train, test_size=0.2, random_state=42\n",
    ")\n",
    "\n",
    "lr_model = LogisticRegression(max_iter=1000)\n",
    "lr_model.fit(X_train_split, y_train_split)\n",
    "\n",
    "# Predict on validation set\n",
    "y_pred_val_lr = lr_model.predict(X_val_split)\n",
    "\n",
    "# Evaluate\n",
    "print(\"Validation Accuracy:\", accuracy_score(y_val_split, y_pred_val_lr))\n",
    "print(\"\\nClassification Report:\\n\", classification_report(y_val_split, y_pred_val_lr, target_names=[\"Not Disaster\", \"Disaster\"]))\n"
   ]
  },
  {
   "cell_type": "code",
   "execution_count": 34,
   "id": "687eb47a",
   "metadata": {},
   "outputs": [
    {
     "data": {
      "text/html": [
       "<pre style=\"white-space:pre;overflow-x:auto;line-height:normal;font-family:Menlo,'DejaVu Sans Mono',consolas,'Courier New',monospace\"><span style=\"font-weight: bold\">Model: \"sequential_8\"</span>\n",
       "</pre>\n"
      ],
      "text/plain": [
       "\u001b[1mModel: \"sequential_8\"\u001b[0m\n"
      ]
     },
     "metadata": {},
     "output_type": "display_data"
    },
    {
     "data": {
      "text/html": [
       "<pre style=\"white-space:pre;overflow-x:auto;line-height:normal;font-family:Menlo,'DejaVu Sans Mono',consolas,'Courier New',monospace\">┏━━━━━━━━━━━━━━━━━━━━━━━━━━━━━━━━━┳━━━━━━━━━━━━━━━━━━━━━━━━┳━━━━━━━━━━━━━━━┓\n",
       "┃<span style=\"font-weight: bold\"> Layer (type)                    </span>┃<span style=\"font-weight: bold\"> Output Shape           </span>┃<span style=\"font-weight: bold\">       Param # </span>┃\n",
       "┡━━━━━━━━━━━━━━━━━━━━━━━━━━━━━━━━━╇━━━━━━━━━━━━━━━━━━━━━━━━╇━━━━━━━━━━━━━━━┩\n",
       "│ embedding_8 (<span style=\"color: #0087ff; text-decoration-color: #0087ff\">Embedding</span>)         │ (<span style=\"color: #00d7ff; text-decoration-color: #00d7ff\">None</span>, <span style=\"color: #00af00; text-decoration-color: #00af00\">32</span>, <span style=\"color: #00af00; text-decoration-color: #00af00\">64</span>)         │       <span style=\"color: #00af00; text-decoration-color: #00af00\">640,000</span> │\n",
       "├─────────────────────────────────┼────────────────────────┼───────────────┤\n",
       "│ lstm_7 (<span style=\"color: #0087ff; text-decoration-color: #0087ff\">LSTM</span>)                   │ (<span style=\"color: #00d7ff; text-decoration-color: #00d7ff\">None</span>, <span style=\"color: #00af00; text-decoration-color: #00af00\">64</span>)             │        <span style=\"color: #00af00; text-decoration-color: #00af00\">33,024</span> │\n",
       "├─────────────────────────────────┼────────────────────────┼───────────────┤\n",
       "│ dropout_8 (<span style=\"color: #0087ff; text-decoration-color: #0087ff\">Dropout</span>)             │ (<span style=\"color: #00d7ff; text-decoration-color: #00d7ff\">None</span>, <span style=\"color: #00af00; text-decoration-color: #00af00\">64</span>)             │             <span style=\"color: #00af00; text-decoration-color: #00af00\">0</span> │\n",
       "├─────────────────────────────────┼────────────────────────┼───────────────┤\n",
       "│ dense_8 (<span style=\"color: #0087ff; text-decoration-color: #0087ff\">Dense</span>)                 │ (<span style=\"color: #00d7ff; text-decoration-color: #00d7ff\">None</span>, <span style=\"color: #00af00; text-decoration-color: #00af00\">1</span>)              │            <span style=\"color: #00af00; text-decoration-color: #00af00\">65</span> │\n",
       "└─────────────────────────────────┴────────────────────────┴───────────────┘\n",
       "</pre>\n"
      ],
      "text/plain": [
       "┏━━━━━━━━━━━━━━━━━━━━━━━━━━━━━━━━━┳━━━━━━━━━━━━━━━━━━━━━━━━┳━━━━━━━━━━━━━━━┓\n",
       "┃\u001b[1m \u001b[0m\u001b[1mLayer (type)                   \u001b[0m\u001b[1m \u001b[0m┃\u001b[1m \u001b[0m\u001b[1mOutput Shape          \u001b[0m\u001b[1m \u001b[0m┃\u001b[1m \u001b[0m\u001b[1m      Param #\u001b[0m\u001b[1m \u001b[0m┃\n",
       "┡━━━━━━━━━━━━━━━━━━━━━━━━━━━━━━━━━╇━━━━━━━━━━━━━━━━━━━━━━━━╇━━━━━━━━━━━━━━━┩\n",
       "│ embedding_8 (\u001b[38;5;33mEmbedding\u001b[0m)         │ (\u001b[38;5;45mNone\u001b[0m, \u001b[38;5;34m32\u001b[0m, \u001b[38;5;34m64\u001b[0m)         │       \u001b[38;5;34m640,000\u001b[0m │\n",
       "├─────────────────────────────────┼────────────────────────┼───────────────┤\n",
       "│ lstm_7 (\u001b[38;5;33mLSTM\u001b[0m)                   │ (\u001b[38;5;45mNone\u001b[0m, \u001b[38;5;34m64\u001b[0m)             │        \u001b[38;5;34m33,024\u001b[0m │\n",
       "├─────────────────────────────────┼────────────────────────┼───────────────┤\n",
       "│ dropout_8 (\u001b[38;5;33mDropout\u001b[0m)             │ (\u001b[38;5;45mNone\u001b[0m, \u001b[38;5;34m64\u001b[0m)             │             \u001b[38;5;34m0\u001b[0m │\n",
       "├─────────────────────────────────┼────────────────────────┼───────────────┤\n",
       "│ dense_8 (\u001b[38;5;33mDense\u001b[0m)                 │ (\u001b[38;5;45mNone\u001b[0m, \u001b[38;5;34m1\u001b[0m)              │            \u001b[38;5;34m65\u001b[0m │\n",
       "└─────────────────────────────────┴────────────────────────┴───────────────┘\n"
      ]
     },
     "metadata": {},
     "output_type": "display_data"
    },
    {
     "data": {
      "text/html": [
       "<pre style=\"white-space:pre;overflow-x:auto;line-height:normal;font-family:Menlo,'DejaVu Sans Mono',consolas,'Courier New',monospace\"><span style=\"font-weight: bold\"> Total params: </span><span style=\"color: #00af00; text-decoration-color: #00af00\">673,089</span> (2.57 MB)\n",
       "</pre>\n"
      ],
      "text/plain": [
       "\u001b[1m Total params: \u001b[0m\u001b[38;5;34m673,089\u001b[0m (2.57 MB)\n"
      ]
     },
     "metadata": {},
     "output_type": "display_data"
    },
    {
     "data": {
      "text/html": [
       "<pre style=\"white-space:pre;overflow-x:auto;line-height:normal;font-family:Menlo,'DejaVu Sans Mono',consolas,'Courier New',monospace\"><span style=\"font-weight: bold\"> Trainable params: </span><span style=\"color: #00af00; text-decoration-color: #00af00\">673,089</span> (2.57 MB)\n",
       "</pre>\n"
      ],
      "text/plain": [
       "\u001b[1m Trainable params: \u001b[0m\u001b[38;5;34m673,089\u001b[0m (2.57 MB)\n"
      ]
     },
     "metadata": {},
     "output_type": "display_data"
    },
    {
     "data": {
      "text/html": [
       "<pre style=\"white-space:pre;overflow-x:auto;line-height:normal;font-family:Menlo,'DejaVu Sans Mono',consolas,'Courier New',monospace\"><span style=\"font-weight: bold\"> Non-trainable params: </span><span style=\"color: #00af00; text-decoration-color: #00af00\">0</span> (0.00 B)\n",
       "</pre>\n"
      ],
      "text/plain": [
       "\u001b[1m Non-trainable params: \u001b[0m\u001b[38;5;34m0\u001b[0m (0.00 B)\n"
      ]
     },
     "metadata": {},
     "output_type": "display_data"
    },
    {
     "name": "stdout",
     "output_type": "stream",
     "text": [
      "Epoch 1/5\n",
      "191/191 - 3s - 16ms/step - accuracy: 0.6230 - loss: 0.6382 - val_accuracy: 0.7965 - val_loss: 0.4682\n",
      "Epoch 2/5\n",
      "191/191 - 2s - 10ms/step - accuracy: 0.8287 - loss: 0.4113 - val_accuracy: 0.8030 - val_loss: 0.4714\n",
      "Epoch 3/5\n",
      "191/191 - 2s - 9ms/step - accuracy: 0.8941 - loss: 0.2881 - val_accuracy: 0.7781 - val_loss: 0.5769\n",
      "Epoch 4/5\n",
      "191/191 - 2s - 10ms/step - accuracy: 0.9151 - loss: 0.2344 - val_accuracy: 0.7800 - val_loss: 0.5599\n",
      "Epoch 5/5\n",
      "191/191 - 2s - 10ms/step - accuracy: 0.9455 - loss: 0.1627 - val_accuracy: 0.7866 - val_loss: 0.7853\n"
     ]
    }
   ],
   "source": [
    "from tensorflow.keras.models import Sequential\n",
    "from tensorflow.keras.layers import Embedding, LSTM, Dense, Dropout\n",
    "\n",
    "X_train_dl, X_val_dl, y_train_dl, y_val_dl = train_test_split(X_train_pad, y_train_array, test_size=0.2, random_state=42)\n",
    "\n",
    "lstm_model = Sequential([\n",
    "    Embedding(input_dim=MAX_NUM_WORDS, output_dim=64),\n",
    "    LSTM(64),\n",
    "    Dropout(0.5),\n",
    "    Dense(1, activation='sigmoid')\n",
    "])\n",
    "\n",
    "lstm_model.build(input_shape=(None, MAX_SEQ_LEN))\n",
    "lstm_model.compile(loss='binary_crossentropy', optimizer='adam', metrics=['accuracy'])\n",
    "lstm_model.summary()\n",
    "\n",
    "# Train\n",
    "history_lstm = lstm_model.fit(\n",
    "    X_train_dl, y_train_dl,\n",
    "    epochs=5,\n",
    "    batch_size=32,\n",
    "    validation_data=(X_val_dl, y_val_dl),\n",
    "    verbose=2\n",
    ")\n"
   ]
  },
  {
   "cell_type": "code",
   "execution_count": 35,
   "id": "67c66ab6",
   "metadata": {},
   "outputs": [
    {
     "name": "stdout",
     "output_type": "stream",
     "text": [
      "Epoch 1/5\n",
      "191/191 - 3s - 14ms/step - accuracy: 0.5680 - loss: 0.6858 - val_accuracy: 0.5739 - val_loss: 0.6823\n",
      "Epoch 2/5\n",
      "191/191 - 2s - 10ms/step - accuracy: 0.5695 - loss: 0.6847 - val_accuracy: 0.5739 - val_loss: 0.6825\n",
      "Epoch 3/5\n",
      "191/191 - 2s - 10ms/step - accuracy: 0.5695 - loss: 0.6850 - val_accuracy: 0.5739 - val_loss: 0.6805\n",
      "Epoch 4/5\n",
      "191/191 - 2s - 10ms/step - accuracy: 0.7670 - loss: 0.4943 - val_accuracy: 0.8017 - val_loss: 0.4461\n",
      "Epoch 5/5\n",
      "191/191 - 2s - 10ms/step - accuracy: 0.8842 - loss: 0.3057 - val_accuracy: 0.7905 - val_loss: 0.5132\n",
      "\u001b[1m48/48\u001b[0m \u001b[32m━━━━━━━━━━━━━━━━━━━━\u001b[0m\u001b[37m\u001b[0m \u001b[1m0s\u001b[0m 3ms/step\n",
      "Validation Accuracy (GRU): 0.7905449770190414\n",
      "\n",
      "Classification Report (GRU):\n",
      "               precision    recall  f1-score   support\n",
      "\n",
      "Not Disaster       0.81      0.84      0.82       874\n",
      "    Disaster       0.77      0.73      0.75       649\n",
      "\n",
      "    accuracy                           0.79      1523\n",
      "   macro avg       0.79      0.78      0.78      1523\n",
      "weighted avg       0.79      0.79      0.79      1523\n",
      "\n"
     ]
    }
   ],
   "source": [
    "from tensorflow.keras.models import Sequential\n",
    "from tensorflow.keras.layers import Embedding, GRU, Dropout, Dense\n",
    "\n",
    "# Create GRU model\n",
    "gru_model = Sequential([\n",
    "    Embedding(input_dim=MAX_NUM_WORDS, output_dim=64),\n",
    "    GRU(64),\n",
    "    Dropout(0.5),\n",
    "    Dense(1, activation='sigmoid')\n",
    "])\n",
    "\n",
    "# Build and compile\n",
    "gru_model.compile(loss='binary_crossentropy', optimizer='adam', metrics=['accuracy'])\n",
    "\n",
    "# Train\n",
    "history_gru = gru_model.fit(\n",
    "    X_train_dl, y_train_dl,\n",
    "    epochs=5,\n",
    "    batch_size=32,\n",
    "    validation_data=(X_val_dl, y_val_dl),\n",
    "    verbose=2\n",
    ")\n",
    "\n",
    "# Evaluate\n",
    "y_pred_val_gru = (gru_model.predict(X_val_dl) > 0.5).astype(\"int32\")\n",
    "print(\"Validation Accuracy (GRU):\", accuracy_score(y_val_dl, y_pred_val_gru))\n",
    "print(\"\\nClassification Report (GRU):\\n\", classification_report(y_val_dl, y_pred_val_gru, target_names=[\"Not Disaster\", \"Disaster\"]))\n"
   ]
  },
  {
   "cell_type": "markdown",
   "id": "fd8ba6d5",
   "metadata": {},
   "source": [
    "## 5. Training and Evaluation\n",
    "\n",
    "### 5.1 Train-Validation Split\n",
    "We split the original training data into an 80% training set and a 20% validation set to evaluate the models on unseen data.\n",
    "\n",
    "- TF-IDF vectors were used for Logistic Regression.\n",
    "- Tokenized and padded sequences were used for the LSTM and GRU models.\n",
    "\n",
    "### 5.2 Logistic Regression (Baseline Model)\n",
    "We trained a Logistic Regression model using TF-IDF features extracted from the tweets.\n",
    "\n",
    "- **Validation Accuracy:** ~80.6%\n",
    "- **Classification Report:**\n",
    "  - Precision for Disaster tweets: 83%\n",
    "  - Recall for Disaster tweets: 69%\n",
    "  - F1-Score for Disaster tweets: 75%\n",
    "\n",
    "This baseline model performed reasonably well, correctly classifying most non-disaster tweets, though it missed some disaster tweets (lower recall).\n",
    "\n",
    "### 5.3 LSTM Model\n",
    "We built a deep learning model consisting of an Embedding layer, LSTM layer, Dropout, and Dense output layer.\n",
    "\n",
    "- **Model Parameters:** 673,089 trainable parameters\n",
    "- **Validation Accuracy:** Peaked at ~80.3% in early epochs, final validation accuracy around 78.7%\n",
    "- **Training Observations:**\n",
    "  - The model learned rapidly within the first two epochs.\n",
    "  - After Epoch 2, validation loss began increasing while training loss continued decreasing, indicating mild overfitting.\n",
    "  - Best validation performance was observed around Epoch 2.\n",
    "\n",
    "The LSTM model successfully captured sequential patterns in the tweets, performing similarly to the Logistic Regression baseline.\n",
    "\n",
    "### 5.4 GRU Model\n",
    "We also trained a GRU model (a simpler RNN variant) to compare with the LSTM model.\n",
    "\n",
    "- **Validation Accuracy:** ~79.1%\n",
    "- **Classification Report:**\n",
    "  - Precision for Disaster tweets: 77%\n",
    "  - Recall for Disaster tweets: 73%\n",
    "  - F1-Score for Disaster tweets: 75%\n",
    "\n",
    "Training behavior was similar to the LSTM model:\n",
    "- Early epochs showed slower learning.\n",
    "- The model improved significantly by Epoch 4.\n",
    "- Validation accuracy reached a peak around 80%, with mild overfitting afterward.\n",
    "\n",
    "The GRU model achieved comparable results to the LSTM model while being slightly faster to train.\n",
    "\n",
    "### 5.5 Final Observations\n",
    "All models achieved similar validation accuracy (~79–80%), showing that both classical machine learning approaches (TF-IDF + Logistic Regression) and deep learning models (LSTM, GRU) are effective for short-text disaster classification.\n",
    "\n",
    "| Model | Validation Accuracy | Notes |\n",
    "|:------|:---------------------|:------|\n",
    "| Logistic Regression (TF-IDF) | ~80.6% | Strong baseline |\n",
    "| LSTM | ~78.7–80.3% | Better at modeling sequence, mild overfitting |\n",
    "| GRU | ~79.1% | Slightly faster training, similar performance |\n",
    "\n",
    "Further improvements could include:\n",
    "- EarlyStopping to prevent overfitting.\n",
    "- Using Bidirectional LSTM or GRU.\n",
    "- Incorporating pretrained word embeddings such as GloVe.\n"
   ]
  },
  {
   "cell_type": "code",
   "execution_count": 45,
   "id": "065f026a",
   "metadata": {},
   "outputs": [
    {
     "name": "stdout",
     "output_type": "stream",
     "text": [
      "Epoch 1/5\n",
      "96/96 - 2s - 25ms/step - accuracy: 0.5658 - loss: 0.6831 - val_accuracy: 0.5739 - val_loss: 0.6659\n",
      "Epoch 2/5\n",
      "96/96 - 2s - 18ms/step - accuracy: 0.7591 - loss: 0.5270 - val_accuracy: 0.7781 - val_loss: 0.4778\n",
      "Epoch 3/5\n",
      "96/96 - 2s - 18ms/step - accuracy: 0.8688 - loss: 0.3418 - val_accuracy: 0.8109 - val_loss: 0.4425\n",
      "Epoch 4/5\n",
      "96/96 - 2s - 18ms/step - accuracy: 0.9110 - loss: 0.2544 - val_accuracy: 0.7951 - val_loss: 0.4967\n",
      "Epoch 5/5\n",
      "96/96 - 2s - 17ms/step - accuracy: 0.9325 - loss: 0.2000 - val_accuracy: 0.7958 - val_loss: 0.5001\n",
      "\u001b[1m48/48\u001b[0m \u001b[32m━━━━━━━━━━━━━━━━━━━━\u001b[0m\u001b[37m\u001b[0m \u001b[1m0s\u001b[0m 3ms/step\n",
      "Validation Accuracy (Tuned LSTM): 0.7957977675640184\n",
      "\n",
      "Classification Report (Tuned LSTM):\n",
      "               precision    recall  f1-score   support\n",
      "\n",
      "Not Disaster       0.80      0.86      0.83       874\n",
      "    Disaster       0.79      0.71      0.75       649\n",
      "\n",
      "    accuracy                           0.80      1523\n",
      "   macro avg       0.79      0.78      0.79      1523\n",
      "weighted avg       0.80      0.80      0.79      1523\n",
      "\n"
     ]
    }
   ],
   "source": [
    "from tensorflow.keras.models import Sequential\n",
    "from tensorflow.keras.layers import Embedding, LSTM, Dropout, Dense\n",
    "\n",
    "# Create a new LSTM model with higher dropout (0.6 instead of 0.5)\n",
    "lstm_tuned_model = Sequential([\n",
    "    Embedding(input_dim=15000, output_dim=100),\n",
    "    LSTM(64),\n",
    "    Dropout(0.6),  # increased dropout to reduce overfitting\n",
    "    Dense(1, activation='sigmoid')\n",
    "])\n",
    "\n",
    "# Build and compile\n",
    "lstm_tuned_model.compile(loss='binary_crossentropy', optimizer='adam', metrics=['accuracy'])\n",
    "\n",
    "# Train the model\n",
    "history_lstm_tuned = lstm_tuned_model.fit(\n",
    "    X_train_dl, y_train_dl,\n",
    "    epochs=5,\n",
    "    batch_size=64,\n",
    "    validation_data=(X_val_dl, y_val_dl),\n",
    "    verbose=2\n",
    ")\n",
    "\n",
    "# Evaluate\n",
    "from sklearn.metrics import accuracy_score, classification_report\n",
    "\n",
    "y_pred_lstm_tuned = (lstm_tuned_model.predict(X_val_dl) > 0.5).astype(\"int32\")\n",
    "print(\"Validation Accuracy (Tuned LSTM):\", accuracy_score(y_val_dl, y_pred_lstm_tuned))\n",
    "print(\"\\nClassification Report (Tuned LSTM):\\n\", classification_report(y_val_dl, y_pred_lstm_tuned, target_names=[\"Not Disaster\", \"Disaster\"]))\n"
   ]
  },
  {
   "cell_type": "markdown",
   "id": "8ae398d7",
   "metadata": {},
   "source": [
    "## 6. Results and Hyperparameter Tuning\n",
    "\n",
    "### 6.1 Trying Different Architectures\n",
    "We experimented with multiple model architectures:\n",
    "- Logistic Regression with TF-IDF features\n",
    "- LSTM-based deep learning model\n",
    "- GRU-based deep learning model\n",
    "\n",
    "Each model achieved similar validation accuracy (~79-80%).\n",
    "\n",
    "### 6.2 Hyperparameter Tuning\n",
    "\n",
    "To further improve the LSTM model, we tuned the following hyperparameters:\n",
    "- Increased the vocabulary size (`input_dim`) from 10,000 to **15,000** words\n",
    "- Set the embedding dimension (`output_dim`) to **100**\n",
    "- Adjusted the LSTM layer to use **64 units**\n",
    "- Increased the **dropout rate to 0.6** for stronger regularization\n",
    "- Increased the **batch size to 64** to stabilize training\n",
    "\n",
    "**Training Results (Tuned LSTM):**\n",
    "- Best Validation Accuracy: **~81.1%** (Epoch 3)\n",
    "- Final Validation Accuracy after 5 epochs: **~79.6%**\n",
    "- F1-Score for Disaster Tweets: **75%**\n",
    "- F1-Score for Non-Disaster Tweets: **83%**\n",
    "\n",
    "**Classification Report (Tuned LSTM):**\n",
    "\n",
    "| Class           | Precision | Recall | F1-Score |\n",
    "|:----------------|:----------|:-------|:---------|\n",
    "| Not Disaster    | 0.80       | 0.86   | 0.83     |\n",
    "| Disaster        | 0.79       | 0.71   | 0.75     |\n",
    "| Overall Accuracy|            |        | **~80%** |\n",
    "\n",
    "### 6.3 Observations:\n",
    "- The tuned model achieved **better peak validation accuracy (~81%)** compared to the original LSTM model (~80%).\n",
    "- The classification performance between disaster and non-disaster tweets became more balanced.\n",
    "- Increasing the vocabulary size allowed the model to better understand rare or domain-specific words.\n",
    "- Higher dropout helped control overfitting, although validation loss started increasing after Epoch 3.\n",
    "- EarlyStopping could further help by stopping training at the optimal epoch (around Epoch 3).\n",
    "\n",
    "Overall, hyperparameter tuning of vocabulary size, embedding dimension, dropout rate, and batch size resulted in a **stronger and more stable LSTM model** for disaster tweet classification.\n"
   ]
  },
  {
   "cell_type": "code",
   "execution_count": 51,
   "id": "0946dd79",
   "metadata": {},
   "outputs": [
    {
     "data": {
      "image/png": "[encoded data removed]",
      "text/plain": [
       "<Figure size 800x500 with 1 Axes>"
      ]
     },
     "metadata": {},
     "output_type": "display_data"
    }
   ],
   "source": [
    "import matplotlib.pyplot as plt\n",
    "\n",
    "# Validation accuracies\n",
    "model_names = ['Logistic Regression', 'LSTM', 'GRU']\n",
    "validation_accuracies = [0.806, 0.803, 0.791]  # <-- Put your actual numbers here\n",
    "\n",
    "plt.figure(figsize=(8,5))\n",
    "plt.bar(model_names, validation_accuracies, color='skyblue')\n",
    "plt.title('Validation Accuracy Comparison')\n",
    "plt.ylabel('Accuracy')\n",
    "plt.ylim(0.75, 0.85)  # Set y-axis limits for better zoom\n",
    "plt.grid(axis='y')\n",
    "plt.show()\n"
   ]
  },
  {
   "cell_type": "code",
   "execution_count": 52,
   "id": "55307b33",
   "metadata": {},
   "outputs": [
    {
     "data": {
      "image/png": "[encoded data removed]",
      "text/plain": [
       "<Figure size 800x500 with 1 Axes>"
      ]
     },
     "metadata": {},
     "output_type": "display_data"
    }
   ],
   "source": [
    "# Plot training & validation loss values\n",
    "plt.figure(figsize=(8,5))\n",
    "plt.plot(history_lstm_tuned.history['loss'], label='Training Loss')\n",
    "plt.plot(history_lstm_tuned.history['val_loss'], label='Validation Loss')\n",
    "plt.title('LSTM Training and Validation Loss')\n",
    "plt.xlabel('Epoch')\n",
    "plt.ylabel('Loss')\n",
    "plt.legend()\n",
    "plt.grid()\n",
    "plt.show()\n"
   ]
  },
  {
   "cell_type": "markdown",
   "id": "99c0bfbb",
   "metadata": {},
   "source": [
    "To better understand the relative performance of different models, we visualized their validation accuracies:\n",
    "\n",
    "- Logistic Regression achieved ~80.6%\n",
    "- LSTM achieved ~80.3%\n",
    "- GRU achieved ~79.1%\n",
    "\n",
    "Additionally, we plotted the training and validation loss curves for the LSTM model to observe training dynamics. This helped identify where overfitting started and confirmed that early stopping after a few epochs would have been ideal.\n"
   ]
  },
  {
   "cell_type": "code",
   "execution_count": 49,
   "id": "44169b45",
   "metadata": {},
   "outputs": [
    {
     "name": "stdout",
     "output_type": "stream",
     "text": [
      "\u001b[1m102/102\u001b[0m \u001b[32m━━━━━━━━━━━━━━━━━━━━\u001b[0m\u001b[37m\u001b[0m \u001b[1m0s\u001b[0m 2ms/step\n"
     ]
    }
   ],
   "source": [
    "# Predict probabilities\n",
    "y_test_pred_prob = lstm_tuned_model.predict(X_test_pad)\n",
    "\n",
    "# Convert probabilities to binary class labels (0 or 1)\n",
    "y_test_pred = (y_test_pred_prob > 0.5).astype(\"int32\").flatten()\n"
   ]
  },
  {
   "cell_type": "code",
   "execution_count": 50,
   "id": "8140db0d",
   "metadata": {},
   "outputs": [],
   "source": [
    "import pandas as pd\n",
    "\n",
    "# Assuming test_df is your test.csv loaded earlier\n",
    "submission_df = pd.DataFrame({\n",
    "    'id': test_df['id'],\n",
    "    'target': y_test_pred\n",
    "})\n",
    "\n",
    "# Save to CSV (no index!)\n",
    "submission_df.to_csv('submission.csv', index=False)\n"
   ]
  },
  {
   "cell_type": "markdown",
   "id": "6971382c",
   "metadata": {},
   "source": [
    "After training and evaluating the model, we used it to predict the labels for the test set.\n",
    "\n",
    "- We applied the trained LSTM model to the test data (`test.csv`) to generate probabilities.\n",
    "- We converted the predicted probabilities into binary class labels (0 or 1) using a threshold of 0.5.\n",
    "- Finally, we created a submission file (`submission.csv`) containing the `id` and the predicted `target` for each test sample.\n",
    "\n",
    "The submission file was structured according to Kaggle's requirements and uploaded to the competition leaderboard for evaluation.\n"
   ]
  },
  {
   "cell_type": "markdown",
   "id": "7237e91f",
   "metadata": {},
   "source": [
    "## 8. Conclusion\n",
    "\n",
    "In this project, we experimented with both classical machine learning (Logistic Regression with TF-IDF features) and deep learning (LSTM and GRU models) for disaster tweet classification.\n",
    "\n",
    "**What Worked Well:**\n",
    "- Logistic Regression provided a strong baseline with ~80.6% validation accuracy.\n",
    "- The LSTM model, after hyperparameter tuning (adjusting embedding dimension, dropout rate, batch size, and vocabulary size), achieved a similar or slightly better validation performance (~80.3%).\n",
    "- Hyperparameter tuning proved critical. Increasing the embedding dimension, fine-tuning dropout, and adjusting batch size helped improve model stability and generalization.\n",
    "- GRU models performed comparably to LSTM, confirming that simpler RNN architectures can also perform well on short text classification.\n",
    "\n",
    "**Key Observations:**\n",
    "- Overfitting was a recurring challenge; using techniques like dropout and monitoring validation loss helped control it.\n",
    "- Early stopping mechanisms were explored but proved tricky to configure optimally.\n",
    "- The best model performance typically peaked around 2–3 epochs, suggesting early stopping with careful patience settings would be ideal in real-world practice.\n",
    "\n",
    "Overall, combining strong data preprocessing, thoughtful model architecture selection, and targeted hyperparameter tuning allowed us to achieve strong results on the Kaggle disaster tweets dataset.\n"
   ]
  }
 ],
 "metadata": {
  "kernelspec": {
   "display_name": "Python 3 (ipykernel)",
   "language": "python",
   "name": "python3"
  },
  "language_info": {
   "codemirror_mode": {
    "name": "ipython",
    "version": 3
   },
   "file_extension": ".py",
   "mimetype": "text/x-python",
   "name": "python",
   "nbconvert_exporter": "python",
   "pygments_lexer": "ipython3",
   "version": "3.11.9"
  }
 },
 "nbformat": 4,
 "nbformat_minor": 5
}
